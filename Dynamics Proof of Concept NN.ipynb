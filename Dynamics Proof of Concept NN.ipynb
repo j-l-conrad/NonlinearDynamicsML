{
 "cells": [
  {
   "cell_type": "code",
   "execution_count": 3,
   "id": "fa1edca6",
   "metadata": {},
   "outputs": [],
   "source": [
    "import numpy as np\n",
    "import scipy.integrate as integrate\n",
    "import scipy.fft as fft\n",
    "import scipy.signal as signal\n",
    "import matplotlib.pyplot as plt\n",
    "import pandas as pd\n",
    "import tensorflow as tf"
   ]
  },
  {
   "cell_type": "code",
   "execution_count": 4,
   "id": "a3859cbc",
   "metadata": {},
   "outputs": [],
   "source": [
    "# Import data\n",
    "# And yes, I did verify that this gets the data imported properly\n",
    "in_data = pd.read_csv('NL_Dynamics_2500_Samples.csv', usecols = [1,2,3,4,5,6,7])\n",
    "out_data = pd.read_csv('NL_Dynamics_2500_Samples.csv', usecols = np.arange(8,208))"
   ]
  },
  {
   "cell_type": "code",
   "execution_count": 5,
   "id": "cbe55b6d",
   "metadata": {},
   "outputs": [],
   "source": [
    "# Build input layer and first hidden layer\n",
    "model = tf.keras.Sequential()\n",
    "model.add(tf.keras.layers.Dense(14, input_shape = (7,), activation = 'swish'))\n",
    "\n",
    "# Adding more hidden layers\n",
    "model.add(tf.keras.layers.Dense(14, activation = 'swish'))\n",
    "model.add(tf.keras.layers.Dense(21, activation = 'swish'))\n",
    "model.add(tf.keras.layers.Dense(28, activation = 'swish'))\n",
    "model.add(tf.keras.layers.Dense(42, activation = 'swish'))\n",
    "model.add(tf.keras.layers.Dense(56, activation = 'swish'))\n",
    "model.add(tf.keras.layers.Dense(84, activation = 'swish'))\n",
    "model.add(tf.keras.layers.Dense(112, activation = 'swish'))\n",
    "model.add(tf.keras.layers.Dense(168, activation = 'swish'))\n",
    "model.add(tf.keras.layers.Dense(200, activation = 'swish'))"
   ]
  },
  {
   "cell_type": "code",
   "execution_count": 6,
   "id": "aff8f238",
   "metadata": {},
   "outputs": [],
   "source": [
    "model.compile(loss = tf.keras.losses.MeanSquaredError(), optimizer = tf.keras.optimizers.Adam(), metrics = [tf.keras.metrics.MeanSquaredError()])"
   ]
  },
  {
   "cell_type": "code",
   "execution_count": 7,
   "id": "9397b71d",
   "metadata": {},
   "outputs": [
    {
     "name": "stdout",
     "output_type": "stream",
     "text": [
      "Wall time: 45.9 s\n"
     ]
    },
    {
     "data": {
      "text/plain": [
       "<keras.callbacks.History at 0x1e0ab54bdf0>"
      ]
     },
     "execution_count": 7,
     "metadata": {},
     "output_type": "execute_result"
    }
   ],
   "source": [
    "%%time\n",
    "\n",
    "model.fit(in_data, out_data, epochs = 400, batch_size = 64, verbose = 0, validation_split = .25)"
   ]
  },
  {
   "cell_type": "code",
   "execution_count": 8,
   "id": "a24b6995",
   "metadata": {},
   "outputs": [
    {
     "name": "stdout",
     "output_type": "stream",
     "text": [
      "79/79 [==============================] - 0s 1ms/step - loss: 1.0559 - mean_squared_error: 1.0559\n",
      "INFO:tensorflow:Assets written to: Chatter Research\\assets\n"
     ]
    }
   ],
   "source": [
    "mse = model.evaluate(in_data, out_data, verbose=1)\n",
    "# Note that this model was trained to recreate the data in the frequency domain\n",
    "\n",
    "# model.save('Chatter Research')"
   ]
  },
  {
   "cell_type": "code",
   "execution_count": 9,
   "id": "f3327fab",
   "metadata": {},
   "outputs": [],
   "source": [
    "# This cell containts mostly copy/pasted code from the \"Frequency Analysis\" notebook\n",
    "\n",
    "m = np.random.uniform(.1,.25) # mass, kg\n",
    "c1 = np.random.uniform(.1,0.3) # damper attached to mass, Ns/m\n",
    "k1 = np.random.uniform(10,100) # spring attached to mass, N/m\n",
    "a = np.random.uniform(10,50) # force amplitude, N\n",
    "w = np.random.uniform(1,20) # force frequency, rad/s\n",
    "k2 = np.random.uniform(k1,4*k1) # second spring, N/m\n",
    "d = np.random.uniform(0,a/k1) # distance from x=0 to the second spring, m\n",
    "\n",
    "tlist = np.arange(0,10,.025)\n",
    "\n",
    "def force(t): return a*np.sin(w*t)\n",
    "\n",
    "def mysystem(x,t):\n",
    "    dx1dt = x[1]\n",
    "    dx2dt = (force(t) - c1*x[1] - np.heaviside(x[0]-d,1)*k2*(x[0]-d) - k1*x[0])/m\n",
    "    dxdt = [dx1dt,dx2dt]\n",
    "    return dxdt\n",
    "\n",
    "x = integrate.odeint(func = mysystem,t = tlist,y0 = [0,0])\n",
    "\n",
    "x1 = x[:,0]\n",
    "x2 = x[:,1]"
   ]
  },
  {
   "cell_type": "code",
   "execution_count": 10,
   "id": "983e06d0",
   "metadata": {},
   "outputs": [
    {
     "data": {
      "image/png": "[encoded data removed]",
      "text/plain": [
       "<Figure size 432x288 with 1 Axes>"
      ]
     },
     "metadata": {
      "needs_background": "light"
     },
     "output_type": "display_data"
    }
   ],
   "source": [
    "# Comparing frequency domain data\n",
    "\n",
    "nn_fft = model.predict(np.array([m,c1,k1,a,w,k2,d]).reshape(1,7))\n",
    "nn_fft = nn_fft[0]\n",
    "\n",
    "velofft = fft.fft(x2)\n",
    "N = np.size(velofft)\n",
    "T = .025\n",
    "xf = np.linspace(0,1/(2*T),N//2)\n",
    "yf = 2/N * np.abs(velofft[:N//2])\n",
    "plt.plot(xf, yf)\n",
    "plt.plot(xf,nn_fft)\n",
    "plt.legend(['ODE Solution','Neural Net Solution'])\n",
    "plt.title('Frequency Domain Sample')\n",
    "plt.show()"
   ]
  },
  {
   "cell_type": "code",
   "execution_count": null,
   "id": "73a9e59d",
   "metadata": {},
   "outputs": [],
   "source": [
    "# Comparing time domain data\n",
    "# (as recreated with an inverse Fourier transform for the neural net case)\n",
    "\n",
    "nn_time = fft.irfft(nn_fft)\n",
    "plt.plot(tlist,x2)\n",
    "# plt.plot(tlist,nn_time)\n",
    "plt.legend(['ODE Solution','NN Solution'])\n",
    "plt.title('Time Domain Sample')\n",
    "plt.show()\n",
    "\n",
    "# ifft creates an 398-element object, irfft creates a 200-element object. We need 400.\n",
    "# Alternatively, why does the original fft from \"Frequency Analysis.ipynb\" give us 200 values from a 400-element\n",
    "# input? One of these operations is causing the issue."
   ]
  }
 ],
 "metadata": {
  "kernelspec": {
   "display_name": "Python 3",
   "language": "python",
   "name": "python3"
  },
  "language_info": {
   "codemirror_mode": {
    "name": "ipython",
    "version": 3
   },
   "file_extension": ".py",
   "mimetype": "text/x-python",
   "name": "python",
   "nbconvert_exporter": "python",
   "pygments_lexer": "ipython3",
   "version": "3.8.8"
  }
 },
 "nbformat": 4,
 "nbformat_minor": 5
}
